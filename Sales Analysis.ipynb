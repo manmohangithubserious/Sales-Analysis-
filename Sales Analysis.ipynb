{
 "cells": [
  {
   "cell_type": "code",
   "execution_count": 1,
   "id": "d8fe855b-fd39-416b-8d2e-39fd623562d2",
   "metadata": {},
   "outputs": [
    {
     "name": "stdout",
     "output_type": "stream",
     "text": [
      "<class 'pandas.core.frame.DataFrame'>\n",
      "RangeIndex: 7560 entries, 0 to 7559\n",
      "Data columns (total 6 columns):\n",
      " #   Column  Non-Null Count  Dtype \n",
      "---  ------  --------------  ----- \n",
      " 0   Date    7560 non-null   object\n",
      " 1   Time    7560 non-null   object\n",
      " 2   State   7560 non-null   object\n",
      " 3   Group   7560 non-null   object\n",
      " 4   Unit    7560 non-null   int64 \n",
      " 5   Sales   7560 non-null   int64 \n",
      "dtypes: int64(2), object(4)\n",
      "memory usage: 354.5+ KB\n"
     ]
    }
   ],
   "source": [
    "import pandas as pd\n",
    "\n",
    "# load csv file into data frame\n",
    "df= pd.read_csv(\"AusApparalSales4thQrt2020.csv\")\n",
    "\n",
    "# display basic information and frist few rows\n",
    "\n",
    "df.info()\n",
    "\n"
   ]
  },
  {
   "cell_type": "code",
   "execution_count": 4,
   "id": "1e4fc28b-554a-4f5f-a674-c55e94a3fa2f",
   "metadata": {},
   "outputs": [
    {
     "data": {
      "text/html": [
       "<div>\n",
       "<style scoped>\n",
       "    .dataframe tbody tr th:only-of-type {\n",
       "        vertical-align: middle;\n",
       "    }\n",
       "\n",
       "    .dataframe tbody tr th {\n",
       "        vertical-align: top;\n",
       "    }\n",
       "\n",
       "    .dataframe thead th {\n",
       "        text-align: right;\n",
       "    }\n",
       "</style>\n",
       "<table border=\"1\" class=\"dataframe\">\n",
       "  <thead>\n",
       "    <tr style=\"text-align: right;\">\n",
       "      <th></th>\n",
       "      <th>Date</th>\n",
       "      <th>Time</th>\n",
       "      <th>State</th>\n",
       "      <th>Group</th>\n",
       "      <th>Unit</th>\n",
       "      <th>Sales</th>\n",
       "    </tr>\n",
       "  </thead>\n",
       "  <tbody>\n",
       "    <tr>\n",
       "      <th>0</th>\n",
       "      <td>01-Oct-20</td>\n",
       "      <td>Morning</td>\n",
       "      <td>WA</td>\n",
       "      <td>Kids</td>\n",
       "      <td>8</td>\n",
       "      <td>20000</td>\n",
       "    </tr>\n",
       "    <tr>\n",
       "      <th>1</th>\n",
       "      <td>01-Oct-20</td>\n",
       "      <td>Morning</td>\n",
       "      <td>WA</td>\n",
       "      <td>Men</td>\n",
       "      <td>8</td>\n",
       "      <td>20000</td>\n",
       "    </tr>\n",
       "    <tr>\n",
       "      <th>2</th>\n",
       "      <td>01-Oct-20</td>\n",
       "      <td>Morning</td>\n",
       "      <td>WA</td>\n",
       "      <td>Women</td>\n",
       "      <td>4</td>\n",
       "      <td>10000</td>\n",
       "    </tr>\n",
       "    <tr>\n",
       "      <th>3</th>\n",
       "      <td>01-Oct-20</td>\n",
       "      <td>Morning</td>\n",
       "      <td>WA</td>\n",
       "      <td>Seniors</td>\n",
       "      <td>15</td>\n",
       "      <td>37500</td>\n",
       "    </tr>\n",
       "    <tr>\n",
       "      <th>4</th>\n",
       "      <td>01-Oct-20</td>\n",
       "      <td>Afternoon</td>\n",
       "      <td>WA</td>\n",
       "      <td>Kids</td>\n",
       "      <td>3</td>\n",
       "      <td>7500</td>\n",
       "    </tr>\n",
       "  </tbody>\n",
       "</table>\n",
       "</div>"
      ],
      "text/plain": [
       "        Date        Time State     Group  Unit  Sales\n",
       "0  01-Oct-20     Morning    WA      Kids     8  20000\n",
       "1  01-Oct-20     Morning    WA       Men     8  20000\n",
       "2  01-Oct-20     Morning    WA     Women     4  10000\n",
       "3  01-Oct-20     Morning    WA   Seniors    15  37500\n",
       "4  01-Oct-20   Afternoon    WA      Kids     3   7500"
      ]
     },
     "execution_count": 4,
     "metadata": {},
     "output_type": "execute_result"
    }
   ],
   "source": [
    "df.head()"
   ]
  },
  {
   "cell_type": "code",
   "execution_count": null,
   "id": "bbdc88f6-fb71-4b74-a143-7d76a607d827",
   "metadata": {},
   "outputs": [],
   "source": [
    "# The dataset contains 7,560 sales records with the following columns:\n",
    "\n",
    "Date: The transaction date.\n",
    "Time: The time of the transaction (e.g., Morning, Afternoon, Evening).\n",
    "State: The Australian state where the sale occurred.\n",
    "Group: Customer group (Kids, Men, Women, Seniors).\n",
    "Unit: Number of units sold.\n",
    "Sales: Total revenue from the sale."
   ]
  },
  {
   "cell_type": "code",
   "execution_count": null,
   "id": "e7363114-4767-4d4e-a2d2-17e7b2f98ec6",
   "metadata": {},
   "outputs": [],
   "source": [
    "# Now, I'll analyze the total sales by state to identify the highest-revenue states and suggest strategies for lower-performing states"
   ]
  },
  {
   "cell_type": "code",
   "execution_count": 13,
   "id": "44e02758-6cec-48a6-9d15-43f0235f7600",
   "metadata": {},
   "outputs": [
    {
     "data": {
      "text/html": [
       "<div>\n",
       "<style scoped>\n",
       "    .dataframe tbody tr th:only-of-type {\n",
       "        vertical-align: middle;\n",
       "    }\n",
       "\n",
       "    .dataframe tbody tr th {\n",
       "        vertical-align: top;\n",
       "    }\n",
       "\n",
       "    .dataframe thead th {\n",
       "        text-align: right;\n",
       "    }\n",
       "</style>\n",
       "<table border=\"1\" class=\"dataframe\">\n",
       "  <thead>\n",
       "    <tr style=\"text-align: right;\">\n",
       "      <th></th>\n",
       "      <th>State</th>\n",
       "      <th>Sales</th>\n",
       "    </tr>\n",
       "  </thead>\n",
       "  <tbody>\n",
       "    <tr>\n",
       "      <th>5</th>\n",
       "      <td>VIC</td>\n",
       "      <td>105565000</td>\n",
       "    </tr>\n",
       "    <tr>\n",
       "      <th>0</th>\n",
       "      <td>NSW</td>\n",
       "      <td>74970000</td>\n",
       "    </tr>\n",
       "    <tr>\n",
       "      <th>3</th>\n",
       "      <td>SA</td>\n",
       "      <td>58857500</td>\n",
       "    </tr>\n",
       "    <tr>\n",
       "      <th>2</th>\n",
       "      <td>QLD</td>\n",
       "      <td>33417500</td>\n",
       "    </tr>\n",
       "    <tr>\n",
       "      <th>4</th>\n",
       "      <td>TAS</td>\n",
       "      <td>22760000</td>\n",
       "    </tr>\n",
       "    <tr>\n",
       "      <th>1</th>\n",
       "      <td>NT</td>\n",
       "      <td>22580000</td>\n",
       "    </tr>\n",
       "    <tr>\n",
       "      <th>6</th>\n",
       "      <td>WA</td>\n",
       "      <td>22152500</td>\n",
       "    </tr>\n",
       "  </tbody>\n",
       "</table>\n",
       "</div>"
      ],
      "text/plain": [
       "  State      Sales\n",
       "5   VIC  105565000\n",
       "0   NSW   74970000\n",
       "3    SA   58857500\n",
       "2   QLD   33417500\n",
       "4   TAS   22760000\n",
       "1    NT   22580000\n",
       "6    WA   22152500"
      ]
     },
     "execution_count": 13,
     "metadata": {},
     "output_type": "execute_result"
    }
   ],
   "source": [
    "# Aggregate total sales by state\n",
    "state_sales = df.groupby(\"State\")[\"Sales\"].sum().reset_index()\n",
    "\n",
    "# Sort by sales in descending order\n",
    "state_sales = state_sales.sort_values(by=\"Sales\", ascending=False)\n",
    "\n",
    "# Display the top states by revenue\n",
    "state_sales\n"
   ]
  },
  {
   "cell_type": "code",
   "execution_count": null,
   "id": "943bb138-eba9-4cdb-975c-5ea7868dfa47",
   "metadata": {},
   "outputs": [],
   "source": [
    "# Here are the total sales by state for the fourth quarter of 2020:\n",
    "\n",
    "VIC (Victoria) - $105,565,000 (Highest revenue)\n",
    "NSW (New South Wales) - $74,970,000\n",
    "SA (South Australia) - $58,857,500\n",
    "QLD (Queensland) - $33,417,500\n",
    "TAS (Tasmania) - $22,760,000\n",
    "NT (Northern Territory) - $22,580,000\n",
    "WA (Western Australia) - $22,152,500 (Lowest revenue)"
   ]
  },
  {
   "cell_type": "code",
   "execution_count": null,
   "id": "ea77c117-e354-4b67-ae67-de244c4299c1",
   "metadata": {},
   "outputs": [],
   "source": [
    "# Key Insights:\n",
    "Victoria (VIC) and New South Wales (NSW) are the top-performing states, contributing the highest revenue.\n",
    "Western Australia (WA), Northern Territory (NT), and Tasmania (TAS) are among the lowest-performing states."
   ]
  },
  {
   "cell_type": "code",
   "execution_count": 15,
   "id": "2979817d-c758-4a93-9163-9c973809aaea",
   "metadata": {},
   "outputs": [
    {
     "data": {
      "text/html": [
       "<div>\n",
       "<style scoped>\n",
       "    .dataframe tbody tr th:only-of-type {\n",
       "        vertical-align: middle;\n",
       "    }\n",
       "\n",
       "    .dataframe tbody tr th {\n",
       "        vertical-align: top;\n",
       "    }\n",
       "\n",
       "    .dataframe thead th {\n",
       "        text-align: right;\n",
       "    }\n",
       "</style>\n",
       "<table border=\"1\" class=\"dataframe\">\n",
       "  <thead>\n",
       "    <tr style=\"text-align: right;\">\n",
       "      <th></th>\n",
       "      <th>State</th>\n",
       "      <th>Group</th>\n",
       "      <th>Sales</th>\n",
       "    </tr>\n",
       "  </thead>\n",
       "  <tbody>\n",
       "  </tbody>\n",
       "</table>\n",
       "</div>"
      ],
      "text/plain": [
       "Empty DataFrame\n",
       "Columns: [State, Group, Sales]\n",
       "Index: []"
      ]
     },
     "execution_count": 15,
     "metadata": {},
     "output_type": "execute_result"
    }
   ],
   "source": [
    "# Now, I'll analyze sales by customer group in these lower-revenue states to identify potential areas for improvement. ​\n",
    "\n",
    "# Filter data for lower-performing states (WA, NT, TAS)\n",
    "low_revenue_states = [\"WA\", \"NT\", \"TAS\"]\n",
    "low_state_sales = df[df[\"State\"].isin(low_revenue_states)]\n",
    "\n",
    "# Aggregate sales by state and customer group\n",
    "low_state_group_sales = low_state_sales.groupby([\"State\", \"Group\"])[\"Sales\"].sum().reset_index()\n",
    "\n",
    "# Sort for better readability\n",
    "low_state_group_sales = low_state_group_sales.sort_values(by=[\"State\", \"Sales\"], ascending=[True, False])\n",
    "\n",
    "# Display the results\n",
    "low_state_group_sales\n",
    "\n",
    "\n"
   ]
  },
  {
   "cell_type": "code",
   "execution_count": 16,
   "id": "5df4c5a6-88bb-4a1c-a5dc-08166ed95cac",
   "metadata": {},
   "outputs": [],
   "source": [
    "# It looks like there might be an issue with filtering the lower-revenue states. Let me verify the state names in the dataset to ensure accuracy before proceeding with further analysis."
   ]
  },
  {
   "cell_type": "code",
   "execution_count": 17,
   "id": "cf937117-6327-4f90-8416-9eee2ba16d95",
   "metadata": {},
   "outputs": [
    {
     "data": {
      "text/plain": [
       "array([' WA', ' NT', ' SA', ' VIC', ' QLD', ' NSW', ' TAS'], dtype=object)"
      ]
     },
     "execution_count": 17,
     "metadata": {},
     "output_type": "execute_result"
    }
   ],
   "source": [
    "# Check unique state names to ensure correct filtering\n",
    "df[\"State\"].unique()\n"
   ]
  },
  {
   "cell_type": "code",
   "execution_count": 18,
   "id": "ec3a47c1-41b9-47a3-910d-c26bc05e4783",
   "metadata": {},
   "outputs": [],
   "source": [
    "# The state names in the dataset contain leading spaces. I'll correct the filtering and reanalyze sales by customer group in the lower-revenue states"
   ]
  },
  {
   "cell_type": "code",
   "execution_count": 19,
   "id": "818e5c22-f906-482a-9059-b74c9b0705f3",
   "metadata": {},
   "outputs": [
    {
     "data": {
      "text/html": [
       "<div>\n",
       "<style scoped>\n",
       "    .dataframe tbody tr th:only-of-type {\n",
       "        vertical-align: middle;\n",
       "    }\n",
       "\n",
       "    .dataframe tbody tr th {\n",
       "        vertical-align: top;\n",
       "    }\n",
       "\n",
       "    .dataframe thead th {\n",
       "        text-align: right;\n",
       "    }\n",
       "</style>\n",
       "<table border=\"1\" class=\"dataframe\">\n",
       "  <thead>\n",
       "    <tr style=\"text-align: right;\">\n",
       "      <th></th>\n",
       "      <th>State</th>\n",
       "      <th>Group</th>\n",
       "      <th>Sales</th>\n",
       "    </tr>\n",
       "  </thead>\n",
       "  <tbody>\n",
       "    <tr>\n",
       "      <th>1</th>\n",
       "      <td>NT</td>\n",
       "      <td>Men</td>\n",
       "      <td>5762500</td>\n",
       "    </tr>\n",
       "    <tr>\n",
       "      <th>0</th>\n",
       "      <td>NT</td>\n",
       "      <td>Kids</td>\n",
       "      <td>5700000</td>\n",
       "    </tr>\n",
       "    <tr>\n",
       "      <th>3</th>\n",
       "      <td>NT</td>\n",
       "      <td>Women</td>\n",
       "      <td>5652500</td>\n",
       "    </tr>\n",
       "    <tr>\n",
       "      <th>2</th>\n",
       "      <td>NT</td>\n",
       "      <td>Seniors</td>\n",
       "      <td>5465000</td>\n",
       "    </tr>\n",
       "    <tr>\n",
       "      <th>4</th>\n",
       "      <td>TAS</td>\n",
       "      <td>Kids</td>\n",
       "      <td>5775000</td>\n",
       "    </tr>\n",
       "    <tr>\n",
       "      <th>5</th>\n",
       "      <td>TAS</td>\n",
       "      <td>Men</td>\n",
       "      <td>5757500</td>\n",
       "    </tr>\n",
       "    <tr>\n",
       "      <th>6</th>\n",
       "      <td>TAS</td>\n",
       "      <td>Seniors</td>\n",
       "      <td>5650000</td>\n",
       "    </tr>\n",
       "    <tr>\n",
       "      <th>7</th>\n",
       "      <td>TAS</td>\n",
       "      <td>Women</td>\n",
       "      <td>5577500</td>\n",
       "    </tr>\n",
       "    <tr>\n",
       "      <th>9</th>\n",
       "      <td>WA</td>\n",
       "      <td>Men</td>\n",
       "      <td>5752500</td>\n",
       "    </tr>\n",
       "    <tr>\n",
       "      <th>8</th>\n",
       "      <td>WA</td>\n",
       "      <td>Kids</td>\n",
       "      <td>5625000</td>\n",
       "    </tr>\n",
       "    <tr>\n",
       "      <th>10</th>\n",
       "      <td>WA</td>\n",
       "      <td>Seniors</td>\n",
       "      <td>5512500</td>\n",
       "    </tr>\n",
       "    <tr>\n",
       "      <th>11</th>\n",
       "      <td>WA</td>\n",
       "      <td>Women</td>\n",
       "      <td>5262500</td>\n",
       "    </tr>\n",
       "  </tbody>\n",
       "</table>\n",
       "</div>"
      ],
      "text/plain": [
       "   State     Group    Sales\n",
       "1     NT       Men  5762500\n",
       "0     NT      Kids  5700000\n",
       "3     NT     Women  5652500\n",
       "2     NT   Seniors  5465000\n",
       "4    TAS      Kids  5775000\n",
       "5    TAS       Men  5757500\n",
       "6    TAS   Seniors  5650000\n",
       "7    TAS     Women  5577500\n",
       "9     WA       Men  5752500\n",
       "8     WA      Kids  5625000\n",
       "10    WA   Seniors  5512500\n",
       "11    WA     Women  5262500"
      ]
     },
     "execution_count": 19,
     "metadata": {},
     "output_type": "execute_result"
    }
   ],
   "source": [
    "# Strip spaces from state names\n",
    "df[\"State\"] = df[\"State\"].str.strip()\n",
    "\n",
    "# Re-run analysis for low-revenue states\n",
    "low_state_sales = df[df[\"State\"].isin(low_revenue_states)]\n",
    "\n",
    "# Aggregate sales by state and customer group\n",
    "low_state_group_sales = low_state_sales.groupby([\"State\", \"Group\"])[\"Sales\"].sum().reset_index()\n",
    "\n",
    "# Sort for better readability\n",
    "low_state_group_sales = low_state_group_sales.sort_values(by=[\"State\", \"Sales\"], ascending=[True, False])\n",
    "\n",
    "# Display the results\n",
    "low_state_group_sales\n"
   ]
  },
  {
   "cell_type": "code",
   "execution_count": null,
   "id": "e2f26867-1315-4842-9a04-82b4178f6866",
   "metadata": {},
   "outputs": [],
   "source": [
    "Sales Breakdown by Customer Group in Lower-Revenue States:\n",
    "Northern Territory (NT)\n",
    "Men: $5,762,500 (Highest)\n",
    "Kids: $5,700,000\n",
    "Women: $5,652,500\n",
    "Seniors: $5,465,000 (Lowest)\n",
    "Tasmania (TAS)\n",
    "Kids: $5,775,000 (Highest)\n",
    "Men: $5,757,500\n",
    "Seniors: $5,650,000\n",
    "Women: $5,577,500 (Lowest)\n",
    "Western Australia (WA)\n",
    "Men: $5,752,500 (Highest)\n",
    "Kids: $5,625,000\n",
    "Seniors: $5,512,500\n",
    "Women: $5,262,500 (Lowest)\n",
    "Insights & Recommendations\n",
    "Target Women’s Segment for Growth:\n",
    "\n",
    "In WA, TAS, and NT, the Women’s category generates the lowest sales.\n",
    "Strategy: Run promotional campaigns, introduce new product lines, and optimize inventory for this category.\n",
    "Expand Kids’ Apparel Marketing in NT & WA:\n",
    "\n",
    "Kids' sales in NT & WA are slightly lower than other groups.\n",
    "Strategy: Partner with schools, offer back-to-school discounts, and create bundled offers.\n",
    "Boost Senior Segment Sales in NT & WA:\n",
    "\n",
    "Seniors' sales are the lowest in NT & WA.\n",
    "Strategy: Introduce senior citizen discounts and tailor marketing efforts toward comfort-based apparel."
   ]
  },
  {
   "cell_type": "code",
   "execution_count": 22,
   "id": "febdb39a-fac2-433c-a0a0-3cb48cc20c75",
   "metadata": {},
   "outputs": [
    {
     "data": {
      "image/png": "[encoded data removed]",
      "text/plain": [
       "<Figure size 864x432 with 1 Axes>"
      ]
     },
     "metadata": {
      "needs_background": "light"
     },
     "output_type": "display_data"
    }
   ],
   "source": [
    "import matplotlib.pyplot as plt\n",
    "import seaborn as sns\n",
    "\n",
    "# Set style\n",
    "sns.set_style(\"whitegrid\")\n",
    "\n",
    "# Create a bar plot for sales by customer group in lower-revenue states\n",
    "plt.figure(figsize=(12, 6))\n",
    "sns.barplot(data=low_state_group_sales, x=\"State\", y=\"Sales\", hue=\"Group\", palette=\"coolwarm\")\n",
    "\n",
    "# Labels and title\n",
    "plt.title(\"Sales by Customer Group in Low-Revenue States\", fontsize=14)\n",
    "plt.xlabel(\"State\", fontsize=12)\n",
    "plt.ylabel(\"Total Sales ($)\", fontsize=12)\n",
    "plt.legend(title=\"Customer Group\")\n",
    "\n",
    "# Show plot\n",
    "plt.show()\n"
   ]
  },
  {
   "cell_type": "code",
   "execution_count": null,
   "id": "e74082d0-ef26-451d-9bca-6a2493fbdba7",
   "metadata": {},
   "outputs": [],
   "source": [
    "# Key Takeaways from the Visualization:\n",
    "Men’s and Kids' segments generate the highest sales in NT and TAS.\n",
    "Women’s segment has the lowest sales across all three states.\n",
    "WA has the lowest overall sales, with Women’s and Seniors' categories lagging behind.\n",
    "Strategic Recommendations:\n",
    "✅ Boost Women’s Apparel Sales: Run targeted marketing campaigns, introduce loyalty discounts, and expand fashion choices.\n",
    "✅ Senior Citizen Promotions: Offer special discounts, promote comfort-focused apparel, and explore partnership deals with community centers.\n",
    "✅ Expand Kids’ Apparel in WA: Promote schoolwear bundles, seasonal discounts, and influencer-driven campaigns."
   ]
  }
 ],
 "metadata": {
  "kernelspec": {
   "display_name": "Python 3 [3.10]",
   "language": "python",
   "name": "python3"
  },
  "language_info": {
   "codemirror_mode": {
    "name": "ipython",
    "version": 3
   },
   "file_extension": ".py",
   "mimetype": "text/x-python",
   "name": "python",
   "nbconvert_exporter": "python",
   "pygments_lexer": "ipython3",
   "version": "3.10.2"
  }
 },
 "nbformat": 4,
 "nbformat_minor": 5
}
